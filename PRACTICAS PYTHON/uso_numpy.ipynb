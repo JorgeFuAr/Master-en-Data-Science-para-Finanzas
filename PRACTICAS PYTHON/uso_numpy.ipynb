{
 "cells": [
  {
   "cell_type": "markdown",
   "metadata": {},
   "source": [
    "## Aplicación de NumPy\n",
    "\n",
    "-----------------------\n",
    "\n",
    "#### Ejemplo 1\n",
    "\n",
    "Los datos contenidos en el fichero [datos.txt](./datos.txt) describe las poblaciones de tres tipos de serpientes en el sur de Africa durante 20 años."
   ]
  },
  {
   "cell_type": "code",
   "execution_count": 3,
   "metadata": {},
   "outputs": [
    {
     "data": {
      "text/plain": [
       "array([[  2000.,  30000.,   3000.,  38300.],\n",
       "       [  2001.,  37200.,   6100.,  48200.],\n",
       "       [  2002.,  60200.,   9800.,  31600.],\n",
       "       [  2003.,  77300.,  36200.,  38200.],\n",
       "       [  2004.,  36300.,  69300.,  30600.],\n",
       "       [  2005.,  20600.,  31700.,  49800.],\n",
       "       [  2006.,  18100.,  19000.,  38600.],\n",
       "       [  2007.,  21300.,  13000.,  32300.],\n",
       "       [  2008.,  22000.,   8300.,  43600.],\n",
       "       [  2009.,  26300.,   9100.,  32100.],\n",
       "       [  2010.,  27100.,   7300.,  36000.],\n",
       "       [  2011.,  30300.,   8000.,  36800.],\n",
       "       [  2012.,  67000.,  12300.,  33800.],\n",
       "       [  2013.,  76600.,  19600.,  30900.],\n",
       "       [  2014.,  62300.,  36700.,  49300.],\n",
       "       [  2015.,  19600.,  61100.,  39000.],\n",
       "       [  2016.,  11200.,  29700.,  36700.],\n",
       "       [  2017.,   7600.,  16800.,  41800.],\n",
       "       [  2018.,  13600.,   9700.,  33300.],\n",
       "       [  2019.,  16200.,  10100.,  31300.],\n",
       "       [  2020.,  23700.,   8600.,  47300.]])"
      ]
     },
     "execution_count": 3,
     "metadata": {},
     "output_type": "execute_result"
    }
   ],
   "source": [
    "import numpy as np\n",
    "data = np.loadtxt('./datos.txt')    # carga de los datos\n",
    "data\n"
   ]
  },
  {
   "cell_type": "markdown",
   "metadata": {},
   "source": [
    "* Cálculo de la media de población de cada tipo a lo largo del tiempo.\n"
   ]
  },
  {
   "cell_type": "code",
   "execution_count": 4,
   "metadata": {},
   "outputs": [
    {
     "data": {
      "text/plain": [
       "30625.396825396827"
      ]
     },
     "execution_count": 4,
     "metadata": {},
     "output_type": "execute_result"
    }
   ],
   "source": [
    "data[: , 1:].mean()"
   ]
  },
  {
   "cell_type": "code",
   "execution_count": 5,
   "metadata": {
    "collapsed": true
   },
   "outputs": [],
   "source": [
    "d = data[:, 1:]"
   ]
  },
  {
   "cell_type": "code",
   "execution_count": 6,
   "metadata": {},
   "outputs": [
    {
     "data": {
      "text/plain": [
       "array([ 33547.61904762,  20257.14285714,  38071.42857143])"
      ]
     },
     "execution_count": 6,
     "metadata": {},
     "output_type": "execute_result"
    }
   ],
   "source": [
    "d.mean(axis = 0)"
   ]
  },
  {
   "cell_type": "code",
   "execution_count": 27,
   "metadata": {},
   "outputs": [
    {
     "data": {
      "text/plain": [
       "20257.142857142859"
      ]
     },
     "execution_count": 27,
     "metadata": {},
     "output_type": "execute_result"
    }
   ],
   "source": [
    "data[: , 2].mean()"
   ]
  },
  {
   "cell_type": "code",
   "execution_count": 28,
   "metadata": {},
   "outputs": [
    {
     "data": {
      "text/plain": [
       "38071.428571428572"
      ]
     },
     "execution_count": 28,
     "metadata": {},
     "output_type": "execute_result"
    }
   ],
   "source": [
    "data[: , 3].mean()"
   ]
  },
  {
   "cell_type": "markdown",
   "metadata": {},
   "source": [
    "* Cálculo de la __desviación estándar__ de la muestra. Se trata de una medida de dispersión para variables. Muestra la agrupación de los datos alrededor de un valor central (la media o promedio)."
   ]
  },
  {
   "cell_type": "code",
   "execution_count": 7,
   "metadata": {},
   "outputs": [
    {
     "data": {
      "text/plain": [
       "array([ 21173.55986102,  17581.93259404,   6209.91088481])"
      ]
     },
     "execution_count": 7,
     "metadata": {},
     "output_type": "execute_result"
    }
   ],
   "source": [
    "d.std(axis = 0)"
   ]
  },
  {
   "cell_type": "code",
   "execution_count": 29,
   "metadata": {},
   "outputs": [
    {
     "data": {
      "text/plain": [
       "19884.800629054753"
      ]
     },
     "execution_count": 29,
     "metadata": {},
     "output_type": "execute_result"
    }
   ],
   "source": [
    "np.std(data)"
   ]
  },
  {
   "cell_type": "code",
   "execution_count": 30,
   "metadata": {},
   "outputs": [
    {
     "data": {
      "text/plain": [
       "array([  6.05530071e+00,   2.11735599e+04,   1.75819326e+04,\n",
       "         6.20991088e+03])"
      ]
     },
     "execution_count": 30,
     "metadata": {},
     "output_type": "execute_result"
    }
   ],
   "source": [
    "np.std(data, 0)"
   ]
  },
  {
   "cell_type": "markdown",
   "metadata": {},
   "source": [
    "* ¿Qué especie ha tenido más población por año?"
   ]
  },
  {
   "cell_type": "code",
   "execution_count": 17,
   "metadata": {},
   "outputs": [],
   "source": [
    "maximo = d.max(axis = 1)"
   ]
  },
  {
   "cell_type": "code",
   "execution_count": 18,
   "metadata": {},
   "outputs": [],
   "source": [
    "especie = d.argmax(axis = 1)"
   ]
  },
  {
   "cell_type": "code",
   "execution_count": 21,
   "metadata": {},
   "outputs": [],
   "source": [
    "valores = list(zip(especie, maximo))"
   ]
  },
  {
   "cell_type": "code",
   "execution_count": 28,
   "metadata": {},
   "outputs": [],
   "source": [
    "year = data[:, 0]"
   ]
  },
  {
   "cell_type": "code",
   "execution_count": 32,
   "metadata": {},
   "outputs": [],
   "source": [
    "d = dict(zip(year,valores))"
   ]
  },
  {
   "cell_type": "code",
   "execution_count": 35,
   "metadata": {},
   "outputs": [],
   "source": [
    "d2 = { int(c) : v for c, v in d.items()} # para referirse a todos los elementos del dicccionario hay que poner d.items"
   ]
  },
  {
   "cell_type": "code",
   "execution_count": 40,
   "metadata": {},
   "outputs": [
    {
     "data": {
      "text/plain": [
       "{2000: (2, 38300),\n",
       " 2001: (2, 48200),\n",
       " 2002: (0, 60200),\n",
       " 2003: (0, 77300),\n",
       " 2004: (1, 69300),\n",
       " 2005: (2, 49800),\n",
       " 2006: (2, 38600),\n",
       " 2007: (2, 32300),\n",
       " 2008: (2, 43600),\n",
       " 2009: (2, 32100),\n",
       " 2010: (2, 36000),\n",
       " 2011: (2, 36800),\n",
       " 2012: (0, 67000),\n",
       " 2013: (0, 76600),\n",
       " 2014: (0, 62300),\n",
       " 2015: (1, 61100),\n",
       " 2016: (2, 36700),\n",
       " 2017: (2, 41800),\n",
       " 2018: (2, 33300),\n",
       " 2019: (2, 31300),\n",
       " 2020: (2, 47300)}"
      ]
     },
     "execution_count": 40,
     "metadata": {},
     "output_type": "execute_result"
    }
   ],
   "source": [
    "d2 = { int(c) : (e, int(m)) for c, (e, m) in d.items()} \n",
    "d2"
   ]
  },
  {
   "cell_type": "code",
   "execution_count": 31,
   "metadata": {},
   "outputs": [
    {
     "name": "stdout",
     "output_type": "stream",
     "text": [
      "38300.0\n",
      "48200.0\n",
      "60200.0\n",
      "77300.0\n",
      "69300.0\n",
      "49800.0\n",
      "38600.0\n",
      "32300.0\n",
      "43600.0\n",
      "32100.0\n",
      "36000.0\n",
      "36800.0\n",
      "67000.0\n",
      "76600.0\n",
      "62300.0\n",
      "61100.0\n",
      "36700.0\n",
      "41800.0\n",
      "33300.0\n",
      "31300.0\n",
      "47300.0\n"
     ]
    }
   ],
   "source": [
    "data[0][1:4].max()\n",
    "for i in range(len(data)):\n",
    "    print(data[i][1:4].max())"
   ]
  },
  {
   "cell_type": "code",
   "execution_count": 54,
   "metadata": {},
   "outputs": [
    {
     "data": {
      "text/plain": [
       "[['especie 3', 2000.0],\n",
       " ['especie 3', 2001.0],\n",
       " ['especie 1', 2002.0],\n",
       " ['especie 3', 2002.0],\n",
       " ['especie 1', 2003.0],\n",
       " ['especie 3', 2003.0],\n",
       " ['especie 2', 2004.0],\n",
       " ['especie 3', 2005.0],\n",
       " ['especie 3', 2006.0],\n",
       " ['especie 3', 2007.0],\n",
       " ['especie 3', 2008.0],\n",
       " ['especie 3', 2009.0],\n",
       " ['especie 3', 2010.0],\n",
       " ['especie 3', 2011.0],\n",
       " ['especie 1', 2012.0],\n",
       " ['especie 3', 2012.0],\n",
       " ['especie 1', 2013.0],\n",
       " ['especie 3', 2013.0],\n",
       " ['especie 1', 2014.0],\n",
       " ['especie 3', 2014.0],\n",
       " ['especie 2', 2015.0],\n",
       " ['especie 3', 2016.0],\n",
       " ['especie 3', 2017.0],\n",
       " ['especie 3', 2018.0],\n",
       " ['especie 3', 2019.0],\n",
       " ['especie 3', 2020.0]]"
      ]
     },
     "execution_count": 54,
     "metadata": {},
     "output_type": "execute_result"
    }
   ],
   "source": [
    "raza=[]\n",
    "data[0][1:4].max()\n",
    "for i in range(len(data)):\n",
    "    \n",
    "    if data[i][1:4].max()==data[i][1]:\n",
    "         raza.append([\"especie 1\",data[i][0]])\n",
    "    if data[i][1:4].max()==data[i][2]:\n",
    "         raza.append([\"especie 2\",data[i][0]])\n",
    "    else : \n",
    "           raza.append([\"especie 3\",data[i][0]])\n",
    "    \n",
    "raza"
   ]
  },
  {
   "cell_type": "code",
   "execution_count": null,
   "metadata": {
    "collapsed": true
   },
   "outputs": [],
   "source": []
  },
  {
   "cell_type": "code",
   "execution_count": null,
   "metadata": {
    "collapsed": true
   },
   "outputs": [],
   "source": []
  },
  {
   "cell_type": "code",
   "execution_count": null,
   "metadata": {
    "collapsed": true
   },
   "outputs": [],
   "source": []
  }
 ],
 "metadata": {
  "anaconda-cloud": {},
  "kernelspec": {
   "display_name": "Python 3",
   "language": "python",
   "name": "python3"
  },
  "language_info": {
   "codemirror_mode": {
    "name": "ipython",
    "version": 3
   },
   "file_extension": ".py",
   "mimetype": "text/x-python",
   "name": "python",
   "nbconvert_exporter": "python",
   "pygments_lexer": "ipython3",
   "version": "3.6.1"
  },
  "toc": {
   "colors": {
    "hover_highlight": "#DAA520",
    "running_highlight": "#FF0000",
    "selected_highlight": "#FFD700"
   },
   "moveMenuLeft": true,
   "nav_menu": {
    "height": "68px",
    "width": "252px"
   },
   "navigate_menu": true,
   "number_sections": true,
   "sideBar": true,
   "threshold": 4,
   "toc_cell": false,
   "toc_section_display": "block",
   "toc_window_display": false,
   "widenNotebook": false
  }
 },
 "nbformat": 4,
 "nbformat_minor": 1
}
