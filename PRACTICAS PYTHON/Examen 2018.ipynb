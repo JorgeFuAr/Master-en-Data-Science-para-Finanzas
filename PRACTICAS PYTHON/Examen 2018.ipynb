{
 "cells": [
  {
   "cell_type": "markdown",
   "metadata": {},
   "source": [
    "<img src=\"./imagenes/bankinter.png\">"
   ]
  },
  {
   "cell_type": "markdown",
   "metadata": {},
   "source": [
    "## Examen Programación en Python\n",
    "### 9 de Febrero de 2018"
   ]
  },
  {
   "cell_type": "markdown",
   "metadata": {},
   "source": [
    "El dataset [./dataset/loan2.csv  (612 KB)](./dataset/loan2.csv) contiene ciertos registros relacionados con préstamos. Cada registro se corresponde con los datos de un préstamo."
   ]
  },
  {
   "cell_type": "markdown",
   "metadata": {},
   "source": [
    "__1.)__  Crear un DataFrame llamado `loan` con los datos del fichero. No te olvides de importar el módulo necesario para realizar la creación del DataFrame."
   ]
  },
  {
   "cell_type": "code",
   "execution_count": 110,
   "metadata": {
    "collapsed": true
   },
   "outputs": [],
   "source": [
    "# Sol:\n",
    "import pandas as pd"
   ]
  },
  {
   "cell_type": "code",
   "execution_count": 111,
   "metadata": {},
   "outputs": [
    {
     "data": {
      "text/plain": [
       "id                               int64\n",
       "member_id                        int64\n",
       "loan_amnt                      float64\n",
       "funded_amnt                    float64\n",
       "funded_amnt_inv                float64\n",
       "term                            object\n",
       "int_rate                       float64\n",
       "installment                    float64\n",
       "grade                           object\n",
       "sub_grade                       object\n",
       "emp_title                       object\n",
       "emp_length                      object\n",
       "home_ownership                  object\n",
       "annual_inc                     float64\n",
       "verification_status             object\n",
       "issue_d                         object\n",
       "loan_status                     object\n",
       "pymnt_plan                      object\n",
       "url                             object\n",
       "desc                            object\n",
       "purpose                         object\n",
       "title                           object\n",
       "zip_code                        object\n",
       "addr_state                      object\n",
       "dti                            float64\n",
       "delinq_2yrs                    float64\n",
       "earliest_cr_line                object\n",
       "inq_last_6mths                 float64\n",
       "mths_since_last_delinq         float64\n",
       "mths_since_last_record         float64\n",
       "                                ...   \n",
       "collection_recovery_fee        float64\n",
       "last_pymnt_d                    object\n",
       "last_pymnt_amnt                float64\n",
       "next_pymnt_d                    object\n",
       "last_credit_pull_d              object\n",
       "collections_12_mths_ex_med     float64\n",
       "mths_since_last_major_derog    float64\n",
       "policy_code                    float64\n",
       "application_type                object\n",
       "annual_inc_joint               float64\n",
       "dti_joint                      float64\n",
       "verification_status_joint       object\n",
       "acc_now_delinq                 float64\n",
       "tot_coll_amt                   float64\n",
       "tot_cur_bal                    float64\n",
       "open_acc_6m                    float64\n",
       "open_il_6m                     float64\n",
       "open_il_12m                    float64\n",
       "open_il_24m                    float64\n",
       "mths_since_rcnt_il             float64\n",
       "total_bal_il                   float64\n",
       "il_util                        float64\n",
       "open_rv_12m                    float64\n",
       "open_rv_24m                    float64\n",
       "max_bal_bc                     float64\n",
       "all_util                       float64\n",
       "total_rev_hi_lim               float64\n",
       "inq_fi                         float64\n",
       "total_cu_tl                    float64\n",
       "inq_last_12m                   float64\n",
       "Length: 74, dtype: object"
      ]
     },
     "execution_count": 111,
     "metadata": {},
     "output_type": "execute_result"
    }
   ],
   "source": [
    "datos = pd.read_csv('dataset/loan2.csv', sep=',')\n",
    "tabla = pd.DataFrame(datos)\n",
    "tabla.dtypes"
   ]
  },
  {
   "cell_type": "markdown",
   "metadata": {},
   "source": [
    "__2.)__ Muestra las últimas filas del DataFrame que has creado en el apartado anterior."
   ]
  },
  {
   "cell_type": "code",
   "execution_count": 112,
   "metadata": {},
   "outputs": [
    {
     "data": {
      "text/html": [
       "<div>\n",
       "<style>\n",
       "    .dataframe thead tr:only-child th {\n",
       "        text-align: right;\n",
       "    }\n",
       "\n",
       "    .dataframe thead th {\n",
       "        text-align: left;\n",
       "    }\n",
       "\n",
       "    .dataframe tbody tr th {\n",
       "        vertical-align: top;\n",
       "    }\n",
       "</style>\n",
       "<table border=\"1\" class=\"dataframe\">\n",
       "  <thead>\n",
       "    <tr style=\"text-align: right;\">\n",
       "      <th></th>\n",
       "      <th>id</th>\n",
       "      <th>member_id</th>\n",
       "      <th>loan_amnt</th>\n",
       "      <th>funded_amnt</th>\n",
       "      <th>funded_amnt_inv</th>\n",
       "      <th>term</th>\n",
       "      <th>int_rate</th>\n",
       "      <th>installment</th>\n",
       "      <th>grade</th>\n",
       "      <th>sub_grade</th>\n",
       "      <th>...</th>\n",
       "      <th>total_bal_il</th>\n",
       "      <th>il_util</th>\n",
       "      <th>open_rv_12m</th>\n",
       "      <th>open_rv_24m</th>\n",
       "      <th>max_bal_bc</th>\n",
       "      <th>all_util</th>\n",
       "      <th>total_rev_hi_lim</th>\n",
       "      <th>inq_fi</th>\n",
       "      <th>total_cu_tl</th>\n",
       "      <th>inq_last_12m</th>\n",
       "    </tr>\n",
       "  </thead>\n",
       "  <tbody>\n",
       "    <tr>\n",
       "      <th>3240</th>\n",
       "      <td>50253711</td>\n",
       "      <td>53632438</td>\n",
       "      <td>7150.0</td>\n",
       "      <td>7150.0</td>\n",
       "      <td>7150.0</td>\n",
       "      <td>36 months</td>\n",
       "      <td>11.53</td>\n",
       "      <td>235.89</td>\n",
       "      <td>B</td>\n",
       "      <td>B5</td>\n",
       "      <td>...</td>\n",
       "      <td>NaN</td>\n",
       "      <td>NaN</td>\n",
       "      <td>NaN</td>\n",
       "      <td>NaN</td>\n",
       "      <td>NaN</td>\n",
       "      <td>NaN</td>\n",
       "      <td>6900.0</td>\n",
       "      <td>NaN</td>\n",
       "      <td>NaN</td>\n",
       "      <td>NaN</td>\n",
       "    </tr>\n",
       "    <tr>\n",
       "      <th>3241</th>\n",
       "      <td>15680685</td>\n",
       "      <td>17773104</td>\n",
       "      <td>5000.0</td>\n",
       "      <td>5000.0</td>\n",
       "      <td>5000.0</td>\n",
       "      <td>36 months</td>\n",
       "      <td>12.49</td>\n",
       "      <td>167.25</td>\n",
       "      <td>B</td>\n",
       "      <td>B5</td>\n",
       "      <td>...</td>\n",
       "      <td>NaN</td>\n",
       "      <td>NaN</td>\n",
       "      <td>NaN</td>\n",
       "      <td>NaN</td>\n",
       "      <td>NaN</td>\n",
       "      <td>NaN</td>\n",
       "      <td>15100.0</td>\n",
       "      <td>NaN</td>\n",
       "      <td>NaN</td>\n",
       "      <td>NaN</td>\n",
       "    </tr>\n",
       "    <tr>\n",
       "      <th>3242</th>\n",
       "      <td>10105780</td>\n",
       "      <td>11957868</td>\n",
       "      <td>35000.0</td>\n",
       "      <td>35000.0</td>\n",
       "      <td>34900.0</td>\n",
       "      <td>36 months</td>\n",
       "      <td>11.99</td>\n",
       "      <td>1162.34</td>\n",
       "      <td>B</td>\n",
       "      <td>B3</td>\n",
       "      <td>...</td>\n",
       "      <td>NaN</td>\n",
       "      <td>NaN</td>\n",
       "      <td>NaN</td>\n",
       "      <td>NaN</td>\n",
       "      <td>NaN</td>\n",
       "      <td>NaN</td>\n",
       "      <td>77600.0</td>\n",
       "      <td>NaN</td>\n",
       "      <td>NaN</td>\n",
       "      <td>NaN</td>\n",
       "    </tr>\n",
       "    <tr>\n",
       "      <th>3243</th>\n",
       "      <td>16091841</td>\n",
       "      <td>18194317</td>\n",
       "      <td>13825.0</td>\n",
       "      <td>13825.0</td>\n",
       "      <td>13825.0</td>\n",
       "      <td>36 months</td>\n",
       "      <td>20.20</td>\n",
       "      <td>515.20</td>\n",
       "      <td>E</td>\n",
       "      <td>E3</td>\n",
       "      <td>...</td>\n",
       "      <td>NaN</td>\n",
       "      <td>NaN</td>\n",
       "      <td>NaN</td>\n",
       "      <td>NaN</td>\n",
       "      <td>NaN</td>\n",
       "      <td>NaN</td>\n",
       "      <td>8600.0</td>\n",
       "      <td>NaN</td>\n",
       "      <td>NaN</td>\n",
       "      <td>NaN</td>\n",
       "    </tr>\n",
       "    <tr>\n",
       "      <th>3244</th>\n",
       "      <td>19927712</td>\n",
       "      <td>22150395</td>\n",
       "      <td>21000.0</td>\n",
       "      <td>21000.0</td>\n",
       "      <td>21000.0</td>\n",
       "      <td>36 months</td>\n",
       "      <td>10.15</td>\n",
       "      <td>679.10</td>\n",
       "      <td>B</td>\n",
       "      <td>B2</td>\n",
       "      <td>...</td>\n",
       "      <td>NaN</td>\n",
       "      <td>NaN</td>\n",
       "      <td>NaN</td>\n",
       "      <td>NaN</td>\n",
       "      <td>NaN</td>\n",
       "      <td>NaN</td>\n",
       "      <td>85500.0</td>\n",
       "      <td>NaN</td>\n",
       "      <td>NaN</td>\n",
       "      <td>NaN</td>\n",
       "    </tr>\n",
       "  </tbody>\n",
       "</table>\n",
       "<p>5 rows × 74 columns</p>\n",
       "</div>"
      ],
      "text/plain": [
       "            id  member_id  loan_amnt  funded_amnt  funded_amnt_inv  \\\n",
       "3240  50253711   53632438     7150.0       7150.0           7150.0   \n",
       "3241  15680685   17773104     5000.0       5000.0           5000.0   \n",
       "3242  10105780   11957868    35000.0      35000.0          34900.0   \n",
       "3243  16091841   18194317    13825.0      13825.0          13825.0   \n",
       "3244  19927712   22150395    21000.0      21000.0          21000.0   \n",
       "\n",
       "            term  int_rate  installment grade sub_grade     ...       \\\n",
       "3240   36 months     11.53       235.89     B        B5     ...        \n",
       "3241   36 months     12.49       167.25     B        B5     ...        \n",
       "3242   36 months     11.99      1162.34     B        B3     ...        \n",
       "3243   36 months     20.20       515.20     E        E3     ...        \n",
       "3244   36 months     10.15       679.10     B        B2     ...        \n",
       "\n",
       "     total_bal_il il_util open_rv_12m  open_rv_24m max_bal_bc all_util  \\\n",
       "3240          NaN     NaN         NaN          NaN        NaN      NaN   \n",
       "3241          NaN     NaN         NaN          NaN        NaN      NaN   \n",
       "3242          NaN     NaN         NaN          NaN        NaN      NaN   \n",
       "3243          NaN     NaN         NaN          NaN        NaN      NaN   \n",
       "3244          NaN     NaN         NaN          NaN        NaN      NaN   \n",
       "\n",
       "     total_rev_hi_lim inq_fi total_cu_tl inq_last_12m  \n",
       "3240           6900.0    NaN         NaN          NaN  \n",
       "3241          15100.0    NaN         NaN          NaN  \n",
       "3242          77600.0    NaN         NaN          NaN  \n",
       "3243           8600.0    NaN         NaN          NaN  \n",
       "3244          85500.0    NaN         NaN          NaN  \n",
       "\n",
       "[5 rows x 74 columns]"
      ]
     },
     "execution_count": 112,
     "metadata": {},
     "output_type": "execute_result"
    }
   ],
   "source": [
    "# Sol: \n",
    "tabla.tail()"
   ]
  },
  {
   "cell_type": "markdown",
   "metadata": {},
   "source": [
    "__3.)__ ¿Cuántas filas tiene la tabla?"
   ]
  },
  {
   "cell_type": "code",
   "execution_count": 113,
   "metadata": {},
   "outputs": [
    {
     "data": {
      "text/plain": [
       "RangeIndex(start=0, stop=3245, step=1)"
      ]
     },
     "execution_count": 113,
     "metadata": {},
     "output_type": "execute_result"
    }
   ],
   "source": [
    "# Sol:\n",
    "tabla.index\n",
    "# El dataframe tabla tiene 3245 filas"
   ]
  },
  {
   "cell_type": "code",
   "execution_count": 118,
   "metadata": {},
   "outputs": [
    {
     "name": "stdout",
     "output_type": "stream",
     "text": [
      "Tiene un total de 3245 filas\n"
     ]
    }
   ],
   "source": [
    "print(\"Tiene un total de\", len(tabla), \"filas\")"
   ]
  },
  {
   "cell_type": "markdown",
   "metadata": {},
   "source": [
    "__4.)__  Crea otro dataframe llamado `loan2` con los datos del fichero, pero esta vez realiza la carga únicamente de las siguientes columnas:"
   ]
  },
  {
   "cell_type": "markdown",
   "metadata": {},
   "source": [
    "```cols = ['member_id', 'loan_amnt', 'term' , 'int_rate', 'purpose', \n",
    "         'application_type' , 'addr_state', 'annual_inc',\n",
    "         'loan_status' ]```"
   ]
  },
  {
   "cell_type": "code",
   "execution_count": 119,
   "metadata": {},
   "outputs": [
    {
     "data": {
      "text/html": [
       "<div>\n",
       "<style>\n",
       "    .dataframe thead tr:only-child th {\n",
       "        text-align: right;\n",
       "    }\n",
       "\n",
       "    .dataframe thead th {\n",
       "        text-align: left;\n",
       "    }\n",
       "\n",
       "    .dataframe tbody tr th {\n",
       "        vertical-align: top;\n",
       "    }\n",
       "</style>\n",
       "<table border=\"1\" class=\"dataframe\">\n",
       "  <thead>\n",
       "    <tr style=\"text-align: right;\">\n",
       "      <th></th>\n",
       "      <th>member_id</th>\n",
       "      <th>loan_amnt</th>\n",
       "      <th>term</th>\n",
       "      <th>int_rate</th>\n",
       "      <th>purpose</th>\n",
       "      <th>application_type</th>\n",
       "      <th>addr_state</th>\n",
       "      <th>annual_inc</th>\n",
       "      <th>loan_status</th>\n",
       "    </tr>\n",
       "  </thead>\n",
       "  <tbody>\n",
       "    <tr>\n",
       "      <th>0</th>\n",
       "      <td>64972117</td>\n",
       "      <td>25000.0</td>\n",
       "      <td>36 months</td>\n",
       "      <td>13.33</td>\n",
       "      <td>debt_consolidation</td>\n",
       "      <td>INDIVIDUAL</td>\n",
       "      <td>OH</td>\n",
       "      <td>80000.0</td>\n",
       "      <td>Current</td>\n",
       "    </tr>\n",
       "    <tr>\n",
       "      <th>1</th>\n",
       "      <td>46666131</td>\n",
       "      <td>11200.0</td>\n",
       "      <td>60 months</td>\n",
       "      <td>16.55</td>\n",
       "      <td>debt_consolidation</td>\n",
       "      <td>INDIVIDUAL</td>\n",
       "      <td>CA</td>\n",
       "      <td>31500.0</td>\n",
       "      <td>Current</td>\n",
       "    </tr>\n",
       "    <tr>\n",
       "      <th>2</th>\n",
       "      <td>66473639</td>\n",
       "      <td>6000.0</td>\n",
       "      <td>36 months</td>\n",
       "      <td>12.69</td>\n",
       "      <td>credit_card</td>\n",
       "      <td>INDIVIDUAL</td>\n",
       "      <td>CT</td>\n",
       "      <td>45000.0</td>\n",
       "      <td>Current</td>\n",
       "    </tr>\n",
       "    <tr>\n",
       "      <th>3</th>\n",
       "      <td>28500374</td>\n",
       "      <td>10000.0</td>\n",
       "      <td>60 months</td>\n",
       "      <td>12.99</td>\n",
       "      <td>debt_consolidation</td>\n",
       "      <td>INDIVIDUAL</td>\n",
       "      <td>MI</td>\n",
       "      <td>40000.0</td>\n",
       "      <td>Current</td>\n",
       "    </tr>\n",
       "    <tr>\n",
       "      <th>4</th>\n",
       "      <td>996162</td>\n",
       "      <td>5000.0</td>\n",
       "      <td>36 months</td>\n",
       "      <td>11.49</td>\n",
       "      <td>debt_consolidation</td>\n",
       "      <td>INDIVIDUAL</td>\n",
       "      <td>TX</td>\n",
       "      <td>75000.0</td>\n",
       "      <td>Fully Paid</td>\n",
       "    </tr>\n",
       "  </tbody>\n",
       "</table>\n",
       "</div>"
      ],
      "text/plain": [
       "   member_id  loan_amnt        term  int_rate             purpose  \\\n",
       "0   64972117    25000.0   36 months     13.33  debt_consolidation   \n",
       "1   46666131    11200.0   60 months     16.55  debt_consolidation   \n",
       "2   66473639     6000.0   36 months     12.69         credit_card   \n",
       "3   28500374    10000.0   60 months     12.99  debt_consolidation   \n",
       "4     996162     5000.0   36 months     11.49  debt_consolidation   \n",
       "\n",
       "  application_type addr_state  annual_inc loan_status  \n",
       "0       INDIVIDUAL         OH     80000.0     Current  \n",
       "1       INDIVIDUAL         CA     31500.0     Current  \n",
       "2       INDIVIDUAL         CT     45000.0     Current  \n",
       "3       INDIVIDUAL         MI     40000.0     Current  \n",
       "4       INDIVIDUAL         TX     75000.0  Fully Paid  "
      ]
     },
     "execution_count": 119,
     "metadata": {},
     "output_type": "execute_result"
    }
   ],
   "source": [
    "# Sol: \n",
    "cols = ['member_id', 'loan_amnt', 'term' , 'int_rate', 'purpose', \n",
    "         'application_type' , 'addr_state', 'annual_inc',\n",
    "         'loan_status' ]\n",
    "data = pd.read_csv('dataset/loan2.csv', sep=',')\n",
    "loan2 = pd.DataFrame(datos, columns = cols)\n",
    "loan2.dtypes\n",
    "loan2.head()"
   ]
  },
  {
   "cell_type": "markdown",
   "metadata": {},
   "source": [
    "__5.)__ La columna `member_id` representa el identificador de cliente. Busca los clientes con  2 o más créditos. "
   ]
  },
  {
   "cell_type": "code",
   "execution_count": 47,
   "metadata": {},
   "outputs": [
    {
     "data": {
      "text/html": [
       "<div>\n",
       "<style>\n",
       "    .dataframe thead tr:only-child th {\n",
       "        text-align: right;\n",
       "    }\n",
       "\n",
       "    .dataframe thead th {\n",
       "        text-align: left;\n",
       "    }\n",
       "\n",
       "    .dataframe tbody tr th {\n",
       "        vertical-align: top;\n",
       "    }\n",
       "</style>\n",
       "<table border=\"1\" class=\"dataframe\">\n",
       "  <thead>\n",
       "    <tr style=\"text-align: right;\">\n",
       "      <th></th>\n",
       "      <th>member_id</th>\n",
       "      <th>loan_amnt</th>\n",
       "      <th>term</th>\n",
       "      <th>int_rate</th>\n",
       "      <th>purpose</th>\n",
       "      <th>application_type</th>\n",
       "      <th>addr_state</th>\n",
       "      <th>annual_inc</th>\n",
       "      <th>loan_status</th>\n",
       "    </tr>\n",
       "  </thead>\n",
       "  <tbody>\n",
       "    <tr>\n",
       "      <th>409</th>\n",
       "      <td>49778778</td>\n",
       "      <td>15000.0</td>\n",
       "      <td>36 months</td>\n",
       "      <td>10.99</td>\n",
       "      <td>debt_consolidation</td>\n",
       "      <td>INDIVIDUAL</td>\n",
       "      <td>WA</td>\n",
       "      <td>47000.0</td>\n",
       "      <td>Current</td>\n",
       "    </tr>\n",
       "    <tr>\n",
       "      <th>1085</th>\n",
       "      <td>43936191</td>\n",
       "      <td>10000.0</td>\n",
       "      <td>36 months</td>\n",
       "      <td>6.39</td>\n",
       "      <td>credit_card</td>\n",
       "      <td>INDIVIDUAL</td>\n",
       "      <td>SC</td>\n",
       "      <td>60000.0</td>\n",
       "      <td>Current</td>\n",
       "    </tr>\n",
       "    <tr>\n",
       "      <th>1268</th>\n",
       "      <td>58973528</td>\n",
       "      <td>28000.0</td>\n",
       "      <td>60 months</td>\n",
       "      <td>13.33</td>\n",
       "      <td>credit_card</td>\n",
       "      <td>INDIVIDUAL</td>\n",
       "      <td>SC</td>\n",
       "      <td>82600.0</td>\n",
       "      <td>Current</td>\n",
       "    </tr>\n",
       "    <tr>\n",
       "      <th>1812</th>\n",
       "      <td>40070464</td>\n",
       "      <td>25000.0</td>\n",
       "      <td>36 months</td>\n",
       "      <td>11.99</td>\n",
       "      <td>debt_consolidation</td>\n",
       "      <td>INDIVIDUAL</td>\n",
       "      <td>NY</td>\n",
       "      <td>95000.0</td>\n",
       "      <td>Current</td>\n",
       "    </tr>\n",
       "    <tr>\n",
       "      <th>2030</th>\n",
       "      <td>58973528</td>\n",
       "      <td>28000.0</td>\n",
       "      <td>60 months</td>\n",
       "      <td>13.33</td>\n",
       "      <td>credit_card</td>\n",
       "      <td>INDIVIDUAL</td>\n",
       "      <td>SC</td>\n",
       "      <td>82600.0</td>\n",
       "      <td>Current</td>\n",
       "    </tr>\n",
       "    <tr>\n",
       "      <th>2556</th>\n",
       "      <td>49778778</td>\n",
       "      <td>15000.0</td>\n",
       "      <td>36 months</td>\n",
       "      <td>10.99</td>\n",
       "      <td>debt_consolidation</td>\n",
       "      <td>INDIVIDUAL</td>\n",
       "      <td>WA</td>\n",
       "      <td>47000.0</td>\n",
       "      <td>Current</td>\n",
       "    </tr>\n",
       "    <tr>\n",
       "      <th>2758</th>\n",
       "      <td>40070464</td>\n",
       "      <td>25000.0</td>\n",
       "      <td>36 months</td>\n",
       "      <td>11.99</td>\n",
       "      <td>debt_consolidation</td>\n",
       "      <td>INDIVIDUAL</td>\n",
       "      <td>NY</td>\n",
       "      <td>95000.0</td>\n",
       "      <td>Current</td>\n",
       "    </tr>\n",
       "    <tr>\n",
       "      <th>2943</th>\n",
       "      <td>43936191</td>\n",
       "      <td>10000.0</td>\n",
       "      <td>36 months</td>\n",
       "      <td>6.39</td>\n",
       "      <td>credit_card</td>\n",
       "      <td>INDIVIDUAL</td>\n",
       "      <td>SC</td>\n",
       "      <td>60000.0</td>\n",
       "      <td>Current</td>\n",
       "    </tr>\n",
       "  </tbody>\n",
       "</table>\n",
       "</div>"
      ],
      "text/plain": [
       "      member_id  loan_amnt        term  int_rate             purpose  \\\n",
       "409    49778778    15000.0   36 months     10.99  debt_consolidation   \n",
       "1085   43936191    10000.0   36 months      6.39         credit_card   \n",
       "1268   58973528    28000.0   60 months     13.33         credit_card   \n",
       "1812   40070464    25000.0   36 months     11.99  debt_consolidation   \n",
       "2030   58973528    28000.0   60 months     13.33         credit_card   \n",
       "2556   49778778    15000.0   36 months     10.99  debt_consolidation   \n",
       "2758   40070464    25000.0   36 months     11.99  debt_consolidation   \n",
       "2943   43936191    10000.0   36 months      6.39         credit_card   \n",
       "\n",
       "     application_type addr_state  annual_inc loan_status  \n",
       "409        INDIVIDUAL         WA     47000.0     Current  \n",
       "1085       INDIVIDUAL         SC     60000.0     Current  \n",
       "1268       INDIVIDUAL         SC     82600.0     Current  \n",
       "1812       INDIVIDUAL         NY     95000.0     Current  \n",
       "2030       INDIVIDUAL         SC     82600.0     Current  \n",
       "2556       INDIVIDUAL         WA     47000.0     Current  \n",
       "2758       INDIVIDUAL         NY     95000.0     Current  \n",
       "2943       INDIVIDUAL         SC     60000.0     Current  "
      ]
     },
     "execution_count": 47,
     "metadata": {},
     "output_type": "execute_result"
    }
   ],
   "source": [
    "# Sol: utilizamos la función duplicated que encuentra todos aquellos member_id que estén repetidos 2 o más veces y visualizamos\n",
    "# los 10 primeros.\n",
    "clientes = loan2[loan2.member_id.duplicated(keep=False)]\n",
    "clientes.head(10)"
   ]
  },
  {
   "cell_type": "markdown",
   "metadata": {},
   "source": [
    "__6.)__ Calcular los estadísticos `mínimo`, `máximo`, `media` y `desviación típica` de la columna `int_rate`."
   ]
  },
  {
   "cell_type": "code",
   "execution_count": 35,
   "metadata": {},
   "outputs": [
    {
     "data": {
      "text/plain": [
       "count    3245.000000\n",
       "mean       13.179051\n",
       "std         4.345222\n",
       "min         5.320000\n",
       "25%         9.990000\n",
       "50%        12.990000\n",
       "75%        15.880000\n",
       "max        27.310000\n",
       "Name: int_rate, dtype: float64"
      ]
     },
     "execution_count": 35,
     "metadata": {},
     "output_type": "execute_result"
    }
   ],
   "source": [
    "# Sol: se puede hacer con describe para verlo de manera completa y directamenten\n",
    "loan2.int_rate.describe()"
   ]
  },
  {
   "cell_type": "markdown",
   "metadata": {},
   "source": [
    "__Segunda forma:__ calculándolos de manera individual"
   ]
  },
  {
   "cell_type": "code",
   "execution_count": 36,
   "metadata": {},
   "outputs": [
    {
     "data": {
      "text/plain": [
       "5.3200000000000003"
      ]
     },
     "execution_count": 36,
     "metadata": {},
     "output_type": "execute_result"
    }
   ],
   "source": [
    "loan2.int_rate.min()"
   ]
  },
  {
   "cell_type": "code",
   "execution_count": 37,
   "metadata": {},
   "outputs": [
    {
     "data": {
      "text/plain": [
       "27.309999999999999"
      ]
     },
     "execution_count": 37,
     "metadata": {},
     "output_type": "execute_result"
    }
   ],
   "source": [
    "loan2.int_rate.max()"
   ]
  },
  {
   "cell_type": "code",
   "execution_count": 38,
   "metadata": {},
   "outputs": [
    {
     "data": {
      "text/plain": [
       "13.179050847457633"
      ]
     },
     "execution_count": 38,
     "metadata": {},
     "output_type": "execute_result"
    }
   ],
   "source": [
    "loan2.int_rate.mean()"
   ]
  },
  {
   "cell_type": "code",
   "execution_count": 39,
   "metadata": {},
   "outputs": [
    {
     "data": {
      "text/plain": [
       "4.345221537341082"
      ]
     },
     "execution_count": 39,
     "metadata": {},
     "output_type": "execute_result"
    }
   ],
   "source": [
    "loan2.int_rate.std()"
   ]
  },
  {
   "cell_type": "markdown",
   "metadata": {},
   "source": [
    "__7.)__ Seleccionar los préstamos cuyo importe (valor en la columna `loan_amnt`) sea  mayor  de 33000 euros. "
   ]
  },
  {
   "cell_type": "code",
   "execution_count": 40,
   "metadata": {},
   "outputs": [
    {
     "data": {
      "text/html": [
       "<div>\n",
       "<style>\n",
       "    .dataframe thead tr:only-child th {\n",
       "        text-align: right;\n",
       "    }\n",
       "\n",
       "    .dataframe thead th {\n",
       "        text-align: left;\n",
       "    }\n",
       "\n",
       "    .dataframe tbody tr th {\n",
       "        vertical-align: top;\n",
       "    }\n",
       "</style>\n",
       "<table border=\"1\" class=\"dataframe\">\n",
       "  <thead>\n",
       "    <tr style=\"text-align: right;\">\n",
       "      <th></th>\n",
       "      <th>member_id</th>\n",
       "      <th>loan_amnt</th>\n",
       "      <th>term</th>\n",
       "      <th>int_rate</th>\n",
       "      <th>purpose</th>\n",
       "      <th>application_type</th>\n",
       "      <th>addr_state</th>\n",
       "      <th>annual_inc</th>\n",
       "      <th>loan_status</th>\n",
       "    </tr>\n",
       "  </thead>\n",
       "  <tbody>\n",
       "    <tr>\n",
       "      <th>14</th>\n",
       "      <td>59671391</td>\n",
       "      <td>35000.0</td>\n",
       "      <td>60 months</td>\n",
       "      <td>19.99</td>\n",
       "      <td>debt_consolidation</td>\n",
       "      <td>INDIVIDUAL</td>\n",
       "      <td>CA</td>\n",
       "      <td>77457.0</td>\n",
       "      <td>Current</td>\n",
       "    </tr>\n",
       "    <tr>\n",
       "      <th>21</th>\n",
       "      <td>69504297</td>\n",
       "      <td>35000.0</td>\n",
       "      <td>60 months</td>\n",
       "      <td>18.20</td>\n",
       "      <td>other</td>\n",
       "      <td>INDIVIDUAL</td>\n",
       "      <td>NC</td>\n",
       "      <td>90000.0</td>\n",
       "      <td>Current</td>\n",
       "    </tr>\n",
       "    <tr>\n",
       "      <th>67</th>\n",
       "      <td>55298110</td>\n",
       "      <td>35000.0</td>\n",
       "      <td>36 months</td>\n",
       "      <td>11.53</td>\n",
       "      <td>credit_card</td>\n",
       "      <td>INDIVIDUAL</td>\n",
       "      <td>NY</td>\n",
       "      <td>135000.0</td>\n",
       "      <td>Current</td>\n",
       "    </tr>\n",
       "    <tr>\n",
       "      <th>83</th>\n",
       "      <td>71241373</td>\n",
       "      <td>34800.0</td>\n",
       "      <td>60 months</td>\n",
       "      <td>15.41</td>\n",
       "      <td>debt_consolidation</td>\n",
       "      <td>INDIVIDUAL</td>\n",
       "      <td>TX</td>\n",
       "      <td>160000.0</td>\n",
       "      <td>Current</td>\n",
       "    </tr>\n",
       "    <tr>\n",
       "      <th>84</th>\n",
       "      <td>1224465</td>\n",
       "      <td>35000.0</td>\n",
       "      <td>60 months</td>\n",
       "      <td>19.03</td>\n",
       "      <td>debt_consolidation</td>\n",
       "      <td>INDIVIDUAL</td>\n",
       "      <td>CA</td>\n",
       "      <td>125000.0</td>\n",
       "      <td>Fully Paid</td>\n",
       "    </tr>\n",
       "  </tbody>\n",
       "</table>\n",
       "</div>"
      ],
      "text/plain": [
       "    member_id  loan_amnt        term  int_rate             purpose  \\\n",
       "14   59671391    35000.0   60 months     19.99  debt_consolidation   \n",
       "21   69504297    35000.0   60 months     18.20               other   \n",
       "67   55298110    35000.0   36 months     11.53         credit_card   \n",
       "83   71241373    34800.0   60 months     15.41  debt_consolidation   \n",
       "84    1224465    35000.0   60 months     19.03  debt_consolidation   \n",
       "\n",
       "   application_type addr_state  annual_inc loan_status  \n",
       "14       INDIVIDUAL         CA     77457.0     Current  \n",
       "21       INDIVIDUAL         NC     90000.0     Current  \n",
       "67       INDIVIDUAL         NY    135000.0     Current  \n",
       "83       INDIVIDUAL         TX    160000.0     Current  \n",
       "84       INDIVIDUAL         CA    125000.0  Fully Paid  "
      ]
     },
     "execution_count": 40,
     "metadata": {},
     "output_type": "execute_result"
    }
   ],
   "source": [
    "# Sol:\n",
    "prestamos = loan2[(loan2.loan_amnt>33000)]\n",
    "prestamos.head()"
   ]
  },
  {
   "cell_type": "markdown",
   "metadata": {},
   "source": [
    "__8.)__ Representa mediante un histograma el tipo de interés `int_rate`."
   ]
  },
  {
   "cell_type": "code",
   "execution_count": 48,
   "metadata": {},
   "outputs": [
    {
     "data": {
      "image/png": "[encoded data removed]",
      "text/plain": [
       "<matplotlib.figure.Figure at 0x174e2763630>"
      ]
     },
     "metadata": {},
     "output_type": "display_data"
    }
   ],
   "source": [
    "# Sol:\n",
    "import matplotlib \n",
    "%matplotlib inline\n",
    "matplotlib.style.use('ggplot')\n",
    "\n",
    "loan2.int_rate.plot.hist(alpha=0.8);"
   ]
  },
  {
   "cell_type": "markdown",
   "metadata": {},
   "source": [
    "* __Otra forma de hacerlo:__"
   ]
  },
  {
   "cell_type": "code",
   "execution_count": 52,
   "metadata": {
    "collapsed": true
   },
   "outputs": [],
   "source": [
    "import matplotlib.pyplot as plt"
   ]
  },
  {
   "cell_type": "code",
   "execution_count": 53,
   "metadata": {},
   "outputs": [
    {
     "data": {
      "image/png": "[encoded data removed]",
      "text/plain": [
       "<matplotlib.figure.Figure at 0x174e27c9278>"
      ]
     },
     "metadata": {},
     "output_type": "display_data"
    }
   ],
   "source": [
    "fig, ax1 = plt.subplots(nrows = 1, figsize=(10,5))   \n",
    "\n",
    "# representamos una sola variable\n",
    "ax1.hist(loan2.int_rate, label=['Tipo de interés'])  \n",
    "ax1.legend(loc=0)                                    \n",
    "\n",
    "ax1.set_title('Histograma')\n",
    "ax1.set_xlabel('Tipo de interés')\n",
    "ax1.set_ylabel('Frecuencia');"
   ]
  },
  {
   "cell_type": "markdown",
   "metadata": {},
   "source": [
    "__9.)__ Nos interesa conocer la finalidad de los préstamos (columna `purpose`). Calcula el número de préstamos por finalidad."
   ]
  },
  {
   "cell_type": "code",
   "execution_count": 55,
   "metadata": {},
   "outputs": [
    {
     "data": {
      "text/plain": [
       "debt_consolidation    1926\n",
       "credit_card            753\n",
       "home_improvement       200\n",
       "other                  162\n",
       "major_purchase          68\n",
       "small_business          31\n",
       "car                     25\n",
       "medical                 24\n",
       "moving                  20\n",
       "vacation                16\n",
       "house                   11\n",
       "wedding                  5\n",
       "renewable_energy         3\n",
       "educational              1\n",
       "Name: purpose, dtype: int64"
      ]
     },
     "execution_count": 55,
     "metadata": {},
     "output_type": "execute_result"
    }
   ],
   "source": [
    "# Sol: \n",
    "finalidad = loan2.purpose.value_counts()\n",
    "finalidad"
   ]
  },
  {
   "cell_type": "markdown",
   "metadata": {},
   "source": [
    "__10.)__ Calcula el valor medio del tipo de interés dependiendo de la finalidad del préstamo."
   ]
  },
  {
   "cell_type": "code",
   "execution_count": 56,
   "metadata": {},
   "outputs": [
    {
     "data": {
      "text/html": [
       "<div>\n",
       "<style>\n",
       "    .dataframe thead tr:only-child th {\n",
       "        text-align: right;\n",
       "    }\n",
       "\n",
       "    .dataframe thead th {\n",
       "        text-align: left;\n",
       "    }\n",
       "\n",
       "    .dataframe tbody tr th {\n",
       "        vertical-align: top;\n",
       "    }\n",
       "</style>\n",
       "<table border=\"1\" class=\"dataframe\">\n",
       "  <thead>\n",
       "    <tr style=\"text-align: right;\">\n",
       "      <th></th>\n",
       "      <th>member_id</th>\n",
       "      <th>loan_amnt</th>\n",
       "      <th>term</th>\n",
       "      <th>int_rate</th>\n",
       "      <th>purpose</th>\n",
       "      <th>application_type</th>\n",
       "      <th>addr_state</th>\n",
       "      <th>annual_inc</th>\n",
       "      <th>loan_status</th>\n",
       "    </tr>\n",
       "  </thead>\n",
       "  <tbody>\n",
       "    <tr>\n",
       "      <th>0</th>\n",
       "      <td>64972117</td>\n",
       "      <td>25000.0</td>\n",
       "      <td>36 months</td>\n",
       "      <td>13.33</td>\n",
       "      <td>debt_consolidation</td>\n",
       "      <td>INDIVIDUAL</td>\n",
       "      <td>OH</td>\n",
       "      <td>80000.0</td>\n",
       "      <td>Current</td>\n",
       "    </tr>\n",
       "    <tr>\n",
       "      <th>1</th>\n",
       "      <td>46666131</td>\n",
       "      <td>11200.0</td>\n",
       "      <td>60 months</td>\n",
       "      <td>16.55</td>\n",
       "      <td>debt_consolidation</td>\n",
       "      <td>INDIVIDUAL</td>\n",
       "      <td>CA</td>\n",
       "      <td>31500.0</td>\n",
       "      <td>Current</td>\n",
       "    </tr>\n",
       "    <tr>\n",
       "      <th>2</th>\n",
       "      <td>66473639</td>\n",
       "      <td>6000.0</td>\n",
       "      <td>36 months</td>\n",
       "      <td>12.69</td>\n",
       "      <td>credit_card</td>\n",
       "      <td>INDIVIDUAL</td>\n",
       "      <td>CT</td>\n",
       "      <td>45000.0</td>\n",
       "      <td>Current</td>\n",
       "    </tr>\n",
       "    <tr>\n",
       "      <th>3</th>\n",
       "      <td>28500374</td>\n",
       "      <td>10000.0</td>\n",
       "      <td>60 months</td>\n",
       "      <td>12.99</td>\n",
       "      <td>debt_consolidation</td>\n",
       "      <td>INDIVIDUAL</td>\n",
       "      <td>MI</td>\n",
       "      <td>40000.0</td>\n",
       "      <td>Current</td>\n",
       "    </tr>\n",
       "    <tr>\n",
       "      <th>4</th>\n",
       "      <td>996162</td>\n",
       "      <td>5000.0</td>\n",
       "      <td>36 months</td>\n",
       "      <td>11.49</td>\n",
       "      <td>debt_consolidation</td>\n",
       "      <td>INDIVIDUAL</td>\n",
       "      <td>TX</td>\n",
       "      <td>75000.0</td>\n",
       "      <td>Fully Paid</td>\n",
       "    </tr>\n",
       "  </tbody>\n",
       "</table>\n",
       "</div>"
      ],
      "text/plain": [
       "   member_id  loan_amnt        term  int_rate             purpose  \\\n",
       "0   64972117    25000.0   36 months     13.33  debt_consolidation   \n",
       "1   46666131    11200.0   60 months     16.55  debt_consolidation   \n",
       "2   66473639     6000.0   36 months     12.69         credit_card   \n",
       "3   28500374    10000.0   60 months     12.99  debt_consolidation   \n",
       "4     996162     5000.0   36 months     11.49  debt_consolidation   \n",
       "\n",
       "  application_type addr_state  annual_inc loan_status  \n",
       "0       INDIVIDUAL         OH     80000.0     Current  \n",
       "1       INDIVIDUAL         CA     31500.0     Current  \n",
       "2       INDIVIDUAL         CT     45000.0     Current  \n",
       "3       INDIVIDUAL         MI     40000.0     Current  \n",
       "4       INDIVIDUAL         TX     75000.0  Fully Paid  "
      ]
     },
     "execution_count": 56,
     "metadata": {},
     "output_type": "execute_result"
    }
   ],
   "source": [
    "# Sol: \n",
    "loan2.head()"
   ]
  },
  {
   "cell_type": "code",
   "execution_count": 67,
   "metadata": {},
   "outputs": [
    {
     "data": {
      "text/plain": [
       "purpose\n",
       "car                   13.069200\n",
       "credit_card           11.818367\n",
       "debt_consolidation    13.554346\n",
       "educational           11.580000\n",
       "home_improvement      12.612550\n",
       "house                 15.546364\n",
       "major_purchase        12.576912\n",
       "medical               13.684167\n",
       "moving                17.138000\n",
       "other                 15.071543\n",
       "renewable_energy       9.593333\n",
       "small_business        14.556774\n",
       "vacation              13.347500\n",
       "wedding               13.538000\n",
       "Name: int_rate, dtype: float64"
      ]
     },
     "execution_count": 67,
     "metadata": {},
     "output_type": "execute_result"
    }
   ],
   "source": [
    "valorMedio = loan2.groupby('purpose').int_rate.mean()\n",
    "valorMedio"
   ]
  },
  {
   "cell_type": "markdown",
   "metadata": {},
   "source": [
    "__11.)__ En cuanto a la duración del préstamo, columna `term`,  nos encontramos con préstamos a 36 meses y 60 meses."
   ]
  },
  {
   "cell_type": "code",
   "execution_count": 16,
   "metadata": {},
   "outputs": [
    {
     "data": {
      "text/plain": [
       "array([' 36 months', ' 60 months'], dtype=object)"
      ]
     },
     "execution_count": 16,
     "metadata": {},
     "output_type": "execute_result"
    }
   ],
   "source": [
    "loan2.term.unique()"
   ]
  },
  {
   "cell_type": "markdown",
   "metadata": {},
   "source": [
    "Transforma dicha columna de forma que no contenga valores de tipo `str`, sino de tipo `int`, es decir:\n",
    "* valor 36 en lugar de ' 36 months'\n",
    "* valor 60 en lugar de ' 60 months'"
   ]
  },
  {
   "cell_type": "code",
   "execution_count": 108,
   "metadata": {},
   "outputs": [
    {
     "data": {
      "text/html": [
       "<div>\n",
       "<style>\n",
       "    .dataframe thead tr:only-child th {\n",
       "        text-align: right;\n",
       "    }\n",
       "\n",
       "    .dataframe thead th {\n",
       "        text-align: left;\n",
       "    }\n",
       "\n",
       "    .dataframe tbody tr th {\n",
       "        vertical-align: top;\n",
       "    }\n",
       "</style>\n",
       "<table border=\"1\" class=\"dataframe\">\n",
       "  <thead>\n",
       "    <tr style=\"text-align: right;\">\n",
       "      <th></th>\n",
       "      <th>member_id</th>\n",
       "      <th>loan_amnt</th>\n",
       "      <th>term</th>\n",
       "      <th>int_rate</th>\n",
       "      <th>purpose</th>\n",
       "      <th>application_type</th>\n",
       "      <th>addr_state</th>\n",
       "      <th>annual_inc</th>\n",
       "      <th>loan_status</th>\n",
       "    </tr>\n",
       "  </thead>\n",
       "  <tbody>\n",
       "    <tr>\n",
       "      <th>0</th>\n",
       "      <td>64972117</td>\n",
       "      <td>25000.0</td>\n",
       "      <td>36 months</td>\n",
       "      <td>13.33</td>\n",
       "      <td>debt_consolidation</td>\n",
       "      <td>INDIVIDUAL</td>\n",
       "      <td>OH</td>\n",
       "      <td>80000.0</td>\n",
       "      <td>Current</td>\n",
       "    </tr>\n",
       "    <tr>\n",
       "      <th>1</th>\n",
       "      <td>46666131</td>\n",
       "      <td>11200.0</td>\n",
       "      <td>60 months</td>\n",
       "      <td>16.55</td>\n",
       "      <td>debt_consolidation</td>\n",
       "      <td>INDIVIDUAL</td>\n",
       "      <td>CA</td>\n",
       "      <td>31500.0</td>\n",
       "      <td>Current</td>\n",
       "    </tr>\n",
       "    <tr>\n",
       "      <th>2</th>\n",
       "      <td>66473639</td>\n",
       "      <td>6000.0</td>\n",
       "      <td>36 months</td>\n",
       "      <td>12.69</td>\n",
       "      <td>credit_card</td>\n",
       "      <td>INDIVIDUAL</td>\n",
       "      <td>CT</td>\n",
       "      <td>45000.0</td>\n",
       "      <td>Current</td>\n",
       "    </tr>\n",
       "    <tr>\n",
       "      <th>3</th>\n",
       "      <td>28500374</td>\n",
       "      <td>10000.0</td>\n",
       "      <td>60 months</td>\n",
       "      <td>12.99</td>\n",
       "      <td>debt_consolidation</td>\n",
       "      <td>INDIVIDUAL</td>\n",
       "      <td>MI</td>\n",
       "      <td>40000.0</td>\n",
       "      <td>Current</td>\n",
       "    </tr>\n",
       "    <tr>\n",
       "      <th>4</th>\n",
       "      <td>996162</td>\n",
       "      <td>5000.0</td>\n",
       "      <td>36 months</td>\n",
       "      <td>11.49</td>\n",
       "      <td>debt_consolidation</td>\n",
       "      <td>INDIVIDUAL</td>\n",
       "      <td>TX</td>\n",
       "      <td>75000.0</td>\n",
       "      <td>Fully Paid</td>\n",
       "    </tr>\n",
       "  </tbody>\n",
       "</table>\n",
       "</div>"
      ],
      "text/plain": [
       "   member_id  loan_amnt        term  int_rate             purpose  \\\n",
       "0   64972117    25000.0   36 months     13.33  debt_consolidation   \n",
       "1   46666131    11200.0   60 months     16.55  debt_consolidation   \n",
       "2   66473639     6000.0   36 months     12.69         credit_card   \n",
       "3   28500374    10000.0   60 months     12.99  debt_consolidation   \n",
       "4     996162     5000.0   36 months     11.49  debt_consolidation   \n",
       "\n",
       "  application_type addr_state  annual_inc loan_status  \n",
       "0       INDIVIDUAL         OH     80000.0     Current  \n",
       "1       INDIVIDUAL         CA     31500.0     Current  \n",
       "2       INDIVIDUAL         CT     45000.0     Current  \n",
       "3       INDIVIDUAL         MI     40000.0     Current  \n",
       "4       INDIVIDUAL         TX     75000.0  Fully Paid  "
      ]
     },
     "execution_count": 108,
     "metadata": {},
     "output_type": "execute_result"
    }
   ],
   "source": [
    "loan2.head()"
   ]
  },
  {
   "cell_type": "code",
   "execution_count": 109,
   "metadata": {},
   "outputs": [
    {
     "data": {
      "text/html": [
       "<div>\n",
       "<style>\n",
       "    .dataframe thead tr:only-child th {\n",
       "        text-align: right;\n",
       "    }\n",
       "\n",
       "    .dataframe thead th {\n",
       "        text-align: left;\n",
       "    }\n",
       "\n",
       "    .dataframe tbody tr th {\n",
       "        vertical-align: top;\n",
       "    }\n",
       "</style>\n",
       "<table border=\"1\" class=\"dataframe\">\n",
       "  <thead>\n",
       "    <tr style=\"text-align: right;\">\n",
       "      <th></th>\n",
       "      <th>member_id</th>\n",
       "      <th>loan_amnt</th>\n",
       "      <th>term</th>\n",
       "      <th>int_rate</th>\n",
       "      <th>purpose</th>\n",
       "      <th>application_type</th>\n",
       "      <th>addr_state</th>\n",
       "      <th>annual_inc</th>\n",
       "      <th>loan_status</th>\n",
       "    </tr>\n",
       "  </thead>\n",
       "  <tbody>\n",
       "    <tr>\n",
       "      <th>0</th>\n",
       "      <td>64972117</td>\n",
       "      <td>25000.0</td>\n",
       "      <td>36</td>\n",
       "      <td>13.33</td>\n",
       "      <td>debt_consolidation</td>\n",
       "      <td>INDIVIDUAL</td>\n",
       "      <td>OH</td>\n",
       "      <td>80000.0</td>\n",
       "      <td>Current</td>\n",
       "    </tr>\n",
       "    <tr>\n",
       "      <th>1</th>\n",
       "      <td>46666131</td>\n",
       "      <td>11200.0</td>\n",
       "      <td>60</td>\n",
       "      <td>16.55</td>\n",
       "      <td>debt_consolidation</td>\n",
       "      <td>INDIVIDUAL</td>\n",
       "      <td>CA</td>\n",
       "      <td>31500.0</td>\n",
       "      <td>Current</td>\n",
       "    </tr>\n",
       "    <tr>\n",
       "      <th>2</th>\n",
       "      <td>66473639</td>\n",
       "      <td>6000.0</td>\n",
       "      <td>36</td>\n",
       "      <td>12.69</td>\n",
       "      <td>credit_card</td>\n",
       "      <td>INDIVIDUAL</td>\n",
       "      <td>CT</td>\n",
       "      <td>45000.0</td>\n",
       "      <td>Current</td>\n",
       "    </tr>\n",
       "    <tr>\n",
       "      <th>3</th>\n",
       "      <td>28500374</td>\n",
       "      <td>10000.0</td>\n",
       "      <td>60</td>\n",
       "      <td>12.99</td>\n",
       "      <td>debt_consolidation</td>\n",
       "      <td>INDIVIDUAL</td>\n",
       "      <td>MI</td>\n",
       "      <td>40000.0</td>\n",
       "      <td>Current</td>\n",
       "    </tr>\n",
       "    <tr>\n",
       "      <th>4</th>\n",
       "      <td>996162</td>\n",
       "      <td>5000.0</td>\n",
       "      <td>36</td>\n",
       "      <td>11.49</td>\n",
       "      <td>debt_consolidation</td>\n",
       "      <td>INDIVIDUAL</td>\n",
       "      <td>TX</td>\n",
       "      <td>75000.0</td>\n",
       "      <td>Fully Paid</td>\n",
       "    </tr>\n",
       "  </tbody>\n",
       "</table>\n",
       "</div>"
      ],
      "text/plain": [
       "   member_id  loan_amnt  term  int_rate             purpose application_type  \\\n",
       "0   64972117    25000.0    36     13.33  debt_consolidation       INDIVIDUAL   \n",
       "1   46666131    11200.0    60     16.55  debt_consolidation       INDIVIDUAL   \n",
       "2   66473639     6000.0    36     12.69         credit_card       INDIVIDUAL   \n",
       "3   28500374    10000.0    60     12.99  debt_consolidation       INDIVIDUAL   \n",
       "4     996162     5000.0    36     11.49  debt_consolidation       INDIVIDUAL   \n",
       "\n",
       "  addr_state  annual_inc loan_status  \n",
       "0         OH     80000.0     Current  \n",
       "1         CA     31500.0     Current  \n",
       "2         CT     45000.0     Current  \n",
       "3         MI     40000.0     Current  \n",
       "4         TX     75000.0  Fully Paid  "
      ]
     },
     "execution_count": 109,
     "metadata": {},
     "output_type": "execute_result"
    }
   ],
   "source": [
    "# Sol: \n",
    "meses = {' 36 months': int(36), ' 60 months': int(60) }\n",
    "loan2.term = loan2.term.map(meses)\n",
    "loan2.head()"
   ]
  },
  {
   "cell_type": "markdown",
   "metadata": {},
   "source": [
    "__12.)__  Calcula de la correlación entre la cantidad prestada `loan_amnt`, renta `annual_inc` y el tipo de interés `int_rate`."
   ]
  },
  {
   "cell_type": "code",
   "execution_count": 75,
   "metadata": {},
   "outputs": [
    {
     "data": {
      "text/html": [
       "<div>\n",
       "<style>\n",
       "    .dataframe thead tr:only-child th {\n",
       "        text-align: right;\n",
       "    }\n",
       "\n",
       "    .dataframe thead th {\n",
       "        text-align: left;\n",
       "    }\n",
       "\n",
       "    .dataframe tbody tr th {\n",
       "        vertical-align: top;\n",
       "    }\n",
       "</style>\n",
       "<table border=\"1\" class=\"dataframe\">\n",
       "  <thead>\n",
       "    <tr style=\"text-align: right;\">\n",
       "      <th></th>\n",
       "      <th>loan_amnt</th>\n",
       "      <th>annual_inc</th>\n",
       "      <th>int_rate</th>\n",
       "    </tr>\n",
       "  </thead>\n",
       "  <tbody>\n",
       "    <tr>\n",
       "      <th>loan_amnt</th>\n",
       "      <td>1.000000</td>\n",
       "      <td>0.160888</td>\n",
       "      <td>0.133690</td>\n",
       "    </tr>\n",
       "    <tr>\n",
       "      <th>annual_inc</th>\n",
       "      <td>0.160888</td>\n",
       "      <td>1.000000</td>\n",
       "      <td>-0.036418</td>\n",
       "    </tr>\n",
       "    <tr>\n",
       "      <th>int_rate</th>\n",
       "      <td>0.133690</td>\n",
       "      <td>-0.036418</td>\n",
       "      <td>1.000000</td>\n",
       "    </tr>\n",
       "  </tbody>\n",
       "</table>\n",
       "</div>"
      ],
      "text/plain": [
       "            loan_amnt  annual_inc  int_rate\n",
       "loan_amnt    1.000000    0.160888  0.133690\n",
       "annual_inc   0.160888    1.000000 -0.036418\n",
       "int_rate     0.133690   -0.036418  1.000000"
      ]
     },
     "execution_count": 75,
     "metadata": {},
     "output_type": "execute_result"
    }
   ],
   "source": [
    "# Sol:\n",
    "loan2[['loan_amnt', 'annual_inc', 'int_rate']].corr()"
   ]
  }
 ],
 "metadata": {
  "anaconda-cloud": {},
  "kernelspec": {
   "display_name": "Python 3",
   "language": "python",
   "name": "python3"
  },
  "language_info": {
   "codemirror_mode": {
    "name": "ipython",
    "version": 3
   },
   "file_extension": ".py",
   "mimetype": "text/x-python",
   "name": "python",
   "nbconvert_exporter": "python",
   "pygments_lexer": "ipython3",
   "version": "3.6.3"
  },
  "toc": {
   "nav_menu": {
    "height": "389px",
    "width": "252px"
   },
   "number_sections": true,
   "sideBar": true,
   "skip_h1_title": false,
   "title_cell": "Table of Contents",
   "title_sidebar": "Contents",
   "toc_cell": false,
   "toc_position": {},
   "toc_section_display": "block",
   "toc_window_display": false
  }
 },
 "nbformat": 4,
 "nbformat_minor": 1
}
